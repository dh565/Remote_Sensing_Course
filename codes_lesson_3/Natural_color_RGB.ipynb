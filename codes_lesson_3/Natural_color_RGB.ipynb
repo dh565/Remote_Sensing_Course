{
 "cells": [
  {
   "cell_type": "code",
   "execution_count": null,
   "metadata": {},
   "outputs": [],
   "source": [
    "# ============================================================================================\n",
    "# to display in natural color - use this package and code {you need to adjust to your data}\n",
    "# ============================================================================================\n",
    "\n",
    "from astropy.visualization import make_lupton_rgb\n",
    "\n",
    "r1 = data[2]\n",
    "g1 = data[1]\n",
    "b1 = data[0]\n",
    "image = make_lupton_rgb(r1, g1, b1)\n",
    "\n",
    "plt.imshow(image)"
   ]
  }
 ],
 "metadata": {
  "kernelspec": {
   "display_name": "Python 3",
   "language": "python",
   "name": "python3"
  },
  "language_info": {
   "codemirror_mode": {
    "name": "ipython",
    "version": 3
   },
   "file_extension": ".py",
   "mimetype": "text/x-python",
   "name": "python",
   "nbconvert_exporter": "python",
   "pygments_lexer": "ipython3",
   "version": "3.8.5"
  }
 },
 "nbformat": 4,
 "nbformat_minor": 4
}
